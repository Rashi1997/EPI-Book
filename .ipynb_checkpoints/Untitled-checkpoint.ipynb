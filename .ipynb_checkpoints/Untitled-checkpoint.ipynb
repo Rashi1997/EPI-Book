{
 "cells": [
  {
   "cell_type": "code",
   "execution_count": null,
   "metadata": {},
   "outputs": [],
   "source": [
    "def even_first(A):\n",
    "    next_even=0\n",
    "    next_odd=len(A)-1\n",
    "    while next_even<=next_odd:\n",
    "        if A[next_even]%2==0:\n",
    "            next_even+=1\n",
    "        else:\n",
    "            A[next_odd], A[next_even]=A[next_even], A[next_odd]\n",
    "            next_odd-=1\n",
    "    return A\n",
    "print(even_first([2,3,4,5,6,7,8]))"
   ]
  },
  {
   "cell_type": "code",
   "execution_count": 7,
   "metadata": {},
   "outputs": [
    {
     "name": "stdout",
     "output_type": "stream",
     "text": [
      "[2, 1, 3, 5, 7, 9]\n"
     ]
    }
   ],
   "source": [
    "def DNFP(A,i):\n",
    "    pivot=A[i]\n",
    "    small,equal,large=0,0,len(A)\n",
    "    while equal<large:\n",
    "        if A[equal]<pivot:\n",
    "            A[equal], A[small]=A[small], A[equal]\n",
    "            small+=1\n",
    "            equal+=1\n",
    "        elif A[equal]==pivot:\n",
    "            equal+=1\n",
    "        else:\n",
    "            large-=1\n",
    "            A[equal], A[large]=A[large], A[equal]\n",
    "    return A\n",
    "print(DNFP([2,3,1,9,5,7],1))"
   ]
  },
  {
   "cell_type": "code",
   "execution_count": 9,
   "metadata": {},
   "outputs": [
    {
     "name": "stdout",
     "output_type": "stream",
     "text": [
      "[False, False, True, True]\n"
     ]
    }
   ],
   "source": [
    "def false_first(A):\n",
    "    next_true=len(A)-1\n",
    "    for i in reversed(range(len(A))):\n",
    "        if A[i]:\n",
    "            A[i],A[next_true]=A[next_true],A[i]\n",
    "            next_true-=1\n",
    "    return A\n",
    "print(false_first([False,True,False,True]))"
   ]
  },
  {
   "cell_type": "code",
   "execution_count": 11,
   "metadata": {},
   "outputs": [
    {
     "name": "stdout",
     "output_type": "stream",
     "text": [
      "[1, 3, 0]\n"
     ]
    }
   ],
   "source": [
    "def increment(A):\n",
    "    A[-1]+=1\n",
    "    for i in reversed(range(1,len(A))):\n",
    "        if(A[i]>=10):\n",
    "            A[i-1]+=A[i]//10\n",
    "            A[i]=A[i]%10\n",
    "    return A\n",
    "print(increment([1,2,9]))"
   ]
  },
  {
   "cell_type": "code",
   "execution_count": 26,
   "metadata": {},
   "outputs": [
    {
     "name": "stdout",
     "output_type": "stream",
     "text": [
      "0b1001\n"
     ]
    }
   ],
   "source": [
    "def add2stringbits(s1,s2):\n",
    "    summ = bin(int(s1,2) + int(s2,2))\n",
    "    return summ\n",
    "print(add2stringbits('11','110'))"
   ]
  },
  {
   "cell_type": "code",
   "execution_count": 33,
   "metadata": {},
   "outputs": [
    {
     "name": "stdout",
     "output_type": "stream",
     "text": [
      "[4, 6]\n"
     ]
    }
   ],
   "source": [
    "def multiply(n1,n2):\n",
    "    res=[0]*(len(n1)+len(n2))\n",
    "    sign=-1 if n1[0]*n2[0]<0 else 1\n",
    "    for i in reversed(range(len(n1))):\n",
    "        for j in reversed(range(len(n2))):\n",
    "            res[i+j+1]+=n1[i]*n2[j]\n",
    "            res[i+j]+=res[i+j+1]//10\n",
    "            res[i+j+1]%=10\n",
    "    res=res[next((i for i,x in enumerate(res) if x!=0),len(res)):] or [0]\n",
    "    return [sign*res[0]]+res[1:]\n",
    "print(multiply([2,3],[2]))"
   ]
  },
  {
   "cell_type": "code",
   "execution_count": 38,
   "metadata": {},
   "outputs": [
    {
     "name": "stdout",
     "output_type": "stream",
     "text": [
      "False\n"
     ]
    }
   ],
   "source": [
    "def can_reach_end(A):\n",
    "    furthest,last_index=0,len(A)-1\n",
    "    i=0\n",
    "    while i<=furthest and furthest<last_index:\n",
    "        furthest=max(furthest,i+A[i])\n",
    "        i+=1\n",
    "    return furthest>=last_index\n",
    "print(can_reach_end([0,2,1,3,5]))"
   ]
  },
  {
   "cell_type": "code",
   "execution_count": 40,
   "metadata": {},
   "outputs": [
    {
     "name": "stdout",
     "output_type": "stream",
     "text": [
      "3\n"
     ]
    }
   ],
   "source": [
    "def jump_game(A):\n",
    "    jump, currend,currfurthest=0,0,0\n",
    "    for i in range(len(A)-1):\n",
    "        currfurthest=max(currfurthest, i+A[i])\n",
    "        if(currend==i):\n",
    "            jump+=1\n",
    "            currend=currfurthest\n",
    "    return jump\n",
    "print(jump_game([3,3,1,0,2,0,1]))"
   ]
  },
  {
   "cell_type": "code",
   "execution_count": null,
   "metadata": {},
   "outputs": [],
   "source": [
    "def DNFP (pivot_index,A):\n",
    "    pivot=A[pivot_index]\n",
    "    for i in range(len(A)):\n",
    "        for j in range(i+1,len(A)):\n",
    "            if A[j]<pivot:\n",
    "                A[i],A[j]=A[j],A[i]\n",
    "                break\n",
    "    for i in reversed(range(len(A))):\n",
    "        if A[i]<pivot:\n",
    "            break\n",
    "        for j in reversed(range(i)):\n",
    "            if A[j]>pivot:\n",
    "                A[i],A[j]=A[j],A[i]\n",
    "                break\n",
    "A=[0,1,2,0,2,1,1]\n",
    "DNFP(3,A)\n",
    "print(A)"
   ]
  }
 ],
 "metadata": {
  "kernelspec": {
   "display_name": "Python 3",
   "language": "python",
   "name": "python3"
  },
  "language_info": {
   "codemirror_mode": {
    "name": "ipython",
    "version": 3
   },
   "file_extension": ".py",
   "mimetype": "text/x-python",
   "name": "python",
   "nbconvert_exporter": "python",
   "pygments_lexer": "ipython3",
   "version": "3.7.3"
  }
 },
 "nbformat": 4,
 "nbformat_minor": 2
}
