{
 "cells": [
  {
   "cell_type": "markdown",
   "metadata": {},
   "source": [
    "# Arrays"
   ]
  },
  {
   "cell_type": "markdown",
   "metadata": {},
   "source": [
    "Retrieving and updating A[i] takes O(1) time.\n",
    "Deleting an element from an array entails moving all successive elements one over to the left to fill the vacated space. For example, if the array is [2,3,5,7,9,5,1,3,17], then deleting the element at index 4 results in the array [2,3,5,7,5,1,3,17,0]. (We do not care about the last value.) The time complexity to delete the element at index i from an array of length n is O(n - i).\n",
    "The same is true for inserting a new element."
   ]
  },
  {
   "cell_type": "markdown",
   "metadata": {},
   "source": [
    "###### Your input is an array of integers, and you have to reorder its entries so that the even entries appear first."
   ]
  },
  {
   "cell_type": "markdown",
   "metadata": {},
   "source": [
    "Array problems often have simple brute.force solutions that use O(n) space, but there are subtler\n",
    "solutions that use the array itself to reduce space complexity to O(1). "
   ]
  },
  {
   "cell_type": "markdown",
   "metadata": {},
   "source": [
    "Below code has space complexity - O(1) and time complexity - O(n)"
   ]
  },
  {
   "cell_type": "code",
   "execution_count": 27,
   "metadata": {},
   "outputs": [
    {
     "name": "stdout",
     "output_type": "stream",
     "text": [
      "[8, 2, 6, 4, 5, 7, 3, 1]\n"
     ]
    }
   ],
   "source": [
    "def even_odd(A):\n",
    "    next_even=0\n",
    "    next_odd=len(A)-1\n",
    "    while next_even < next_odd:\n",
    "        if A[next_even] % 2 == 0:\n",
    "            next_even += 1\n",
    "        else:\n",
    "            A[next_even], A[next_odd] = A[next_odd], A[next_even]\n",
    "            next_odd -= 1\n",
    "    return A\n",
    "print(even_odd([1,2,3,4,5,6,7,8]))"
   ]
  },
  {
   "cell_type": "markdown",
   "metadata": {},
   "source": [
    "Arrays in Python are provided by the List type."
   ]
  },
  {
   "cell_type": "markdown",
   "metadata": {},
   "source": [
    "Instantiating a List."
   ]
  },
  {
   "cell_type": "code",
   "execution_count": 28,
   "metadata": {},
   "outputs": [
    {
     "name": "stdout",
     "output_type": "stream",
     "text": [
      "[3, 4, 56, 654] [1, 0, 0, 0, 0, 0, 0, 0, 0, 0, 0] [0, 1, 2, 3, 4, 5, 6, 7, 8, 9]\n"
     ]
    }
   ],
   "source": [
    "A = [3,4,56,654]\n",
    "B = [1] + [0]*10\n",
    "C = list(range(10))\n",
    "print (A, B, C)"
   ]
  },
  {
   "cell_type": "markdown",
   "metadata": {},
   "source": [
    "basic operations are len(A),A.append(42),A.remove(2),and A.insert(3, 28)."
   ]
  },
  {
   "cell_type": "code",
   "execution_count": 29,
   "metadata": {},
   "outputs": [
    {
     "name": "stdout",
     "output_type": "stream",
     "text": [
      "4\n",
      "[3, 56, 654, 28, 23]\n"
     ]
    }
   ],
   "source": [
    "print(len(A))\n",
    "A.append(23)\n",
    "A.remove(4)\n",
    "A.insert(3,28)\n",
    "print(A)"
   ]
  },
  {
   "cell_type": "markdown",
   "metadata": {},
   "source": [
    "2D arrays"
   ]
  },
  {
   "cell_type": "code",
   "execution_count": 30,
   "metadata": {},
   "outputs": [
    {
     "name": "stdout",
     "output_type": "stream",
     "text": [
      "[[2, 3, 4], [3, 4], [4]]\n"
     ]
    }
   ],
   "source": [
    "array2D = [[2,3,4],[3,4],[4]]\n",
    "print(array2D)"
   ]
  },
  {
   "cell_type": "markdown",
   "metadata": {},
   "source": [
    "a in A. (This operation has O(n) time\n",
    "complexity, where n is the length of the array.)"
   ]
  },
  {
   "cell_type": "markdown",
   "metadata": {},
   "source": [
    "The difference between B = A and B = Iist(A).\n",
    "\n",
    "first B = A is shallow copy and B = list(A) is deep copy\n",
    "\n",
    "Thus making changes in A also makes changes in B for B = A"
   ]
  },
  {
   "cell_type": "code",
   "execution_count": 31,
   "metadata": {},
   "outputs": [
    {
     "name": "stdout",
     "output_type": "stream",
     "text": [
      "[1, 2, 3, 4, 23] [1, 2, 3, 4, 23] [1, 2, 3, 4]\n"
     ]
    }
   ],
   "source": [
    "A = [1,2,3,4]\n",
    "B = A\n",
    "C = list(A)\n",
    "A.append(23)\n",
    "print(A, B, C)"
   ]
  },
  {
   "cell_type": "markdown",
   "metadata": {},
   "source": [
    "How copy. copy(A) differs from copy. deepcopy(A)."
   ]
  },
  {
   "cell_type": "code",
   "execution_count": 32,
   "metadata": {},
   "outputs": [],
   "source": [
    "# importing copy module \n",
    "import copy \n",
    "\n",
    "# initializing list 1 \n",
    "li1 = [1, 2, [3,5], 4] \n",
    "\n",
    "\n",
    "# using copy for shallow copy \n",
    "li2 = copy.copy(li1) \n",
    "\n",
    "# using deepcopy for deepcopy \n",
    "li3 = copy.deepcopy(li1) \n"
   ]
  },
  {
   "cell_type": "code",
   "execution_count": 33,
   "metadata": {},
   "outputs": [
    {
     "name": "stdout",
     "output_type": "stream",
     "text": [
      "[(1, 'a'), (1, 'b'), (2, 'a'), (2, 'b'), (3, 'a'), (3, 'b'), (4, 'a'), (4, 'b')]\n"
     ]
    }
   ],
   "source": [
    "A = [1,2,3,4]\n",
    "B = ['a','b']\n",
    "J = [(x,y) for x in A for y in B]\n",
    "print (J)"
   ]
  },
  {
   "cell_type": "markdown",
   "metadata": {},
   "source": [
    "###### The Dutch National Flag problem: "
   ]
  },
  {
   "cell_type": "markdown",
   "metadata": {},
   "source": [
    "Write a program that takes an array A and an index i into A, and rearranges the elements such that all elements less than A[i] (the \"pivot\") appear first, followed by elements equal to the pivot, followed by elements greater than the pivot."
   ]
  },
  {
   "cell_type": "markdown",
   "metadata": {},
   "source": [
    "Space complexity - O(1) <br> Time Complexity - O($n^{2}$)"
   ]
  },
  {
   "cell_type": "code",
   "execution_count": 34,
   "metadata": {
    "scrolled": true
   },
   "outputs": [
    {
     "name": "stdout",
     "output_type": "stream",
     "text": [
      "[4, 3, 2, 1, 0, 5, 9, 8, 7, 6]\n"
     ]
    }
   ],
   "source": [
    "def dutch_flag_partition(pivot_index , A):\n",
    "    pivot = A[pivot_index]\n",
    "    for i in range(len(A)):\n",
    "        for j in range(i+1 , len(A)):\n",
    "            if A[j] < pivot:\n",
    "                A[i], A[j]= A[j], A[i]\n",
    "                break\n",
    "    for i in reversed(range(len(A))):\n",
    "        if A[i] < pivot:\n",
    "            break\n",
    "        for j in reversed(range(i)):\n",
    "            if A[j] > pivot:\n",
    "                A[i], A[j]=A[j], A[i]\n",
    "                break\n",
    "    return A\n",
    "B = dutch_flag_partition(4, [9,8,7,6,5,4,3,2,1,0])\n",
    "print(B)     "
   ]
  },
  {
   "cell_type": "markdown",
   "metadata": {},
   "source": [
    "Space complexity - O(1) <br> Time Complexity - O(n)"
   ]
  },
  {
   "cell_type": "code",
   "execution_count": 35,
   "metadata": {},
   "outputs": [
    {
     "name": "stdout",
     "output_type": "stream",
     "text": [
      "[4, 3, 2, 1, 0, 5, 9, 8, 7, 6]\n"
     ]
    }
   ],
   "source": [
    "def dutch_flag_partition(pivot_index , A):\n",
    "    pivot = A[pivot_index]\n",
    "    small=0\n",
    "    large=len(A)-1\n",
    "    for i in range(len(A)):\n",
    "        if A[i] < pivot:\n",
    "            A[i], A[small]=A[small], A[i]\n",
    "            small += 1\n",
    "    for i in reversed(range(len(A))):\n",
    "        if A[i] < pivot:\n",
    "            break\n",
    "        elif A[i] > pivot:\n",
    "            A[i], A[large]=A[large], A[i]\n",
    "            large -= 1\n",
    "    return A\n",
    "B = dutch_flag_partition(4, [9,8,7,6,5,4,3,2,1,0])\n",
    "print(B)"
   ]
  },
  {
   "cell_type": "markdown",
   "metadata": {},
   "source": [
    "Space complexity - O(1) <br> Time Complexity - O(n)"
   ]
  },
  {
   "cell_type": "code",
   "execution_count": 36,
   "metadata": {},
   "outputs": [
    {
     "name": "stdout",
     "output_type": "stream",
     "text": [
      "[0, 1, 2, 3, 4, 5, 6, 7, 8, 9]\n"
     ]
    }
   ],
   "source": [
    "def dutch_flag_partition(pivot_index , A):\n",
    "    pivot = A[pivot_index]\n",
    "    equal, small,large=0, 0, len(A)\n",
    "    while equal < large:\n",
    "        if A[equal] < pivot:\n",
    "            A[equal], A[small]= A[small], A[equal]\n",
    "            equal, small= equal + 1, small + 1\n",
    "        elif A[equal] == pivot:\n",
    "            equal += 1\n",
    "        else:\n",
    "            large -= 1\n",
    "            A[equal], A[large]=A[large], A[equal]\n",
    "    return A\n",
    "B = dutch_flag_partition(4, [9,8,7,6,5,4,3,2,1,0])\n",
    "print(B)"
   ]
  },
  {
   "cell_type": "markdown",
   "metadata": {},
   "source": [
    "###### Assuming that keys take one of three values, reorder the array so that all objects with the same key appear together. The order of the subarrays is not important. For example, both Figures 5.1(b) and 5.1(c) on Page 40 are valid answers for Figure 5.1(a) on Page 40. Use O(1) additional space and O(n) time. "
   ]
  },
  {
   "cell_type": "code",
   "execution_count": 3,
   "metadata": {},
   "outputs": [
    {
     "name": "stdout",
     "output_type": "stream",
     "text": [
      "[0, 0, 0, 0, 1, 1, 1, 1, 2, 2, 2]\n"
     ]
    }
   ],
   "source": [
    "def dutch_flag_partition(pivot_index , A):\n",
    "    pivot1 = 0\n",
    "    pivot2 = 1\n",
    "    pivot3 = 2\n",
    "    equal, small,large=0, 0, len(A)\n",
    "    while equal < large:\n",
    "        if A[equal] == pivot1:\n",
    "            A[equal], A[small]= A[small], A[equal]\n",
    "            equal, small= equal + 1, small + 1\n",
    "        elif A[equal] == pivot2:\n",
    "            equal += 1\n",
    "        else:\n",
    "            large -= 1\n",
    "            A[equal], A[large]=A[large], A[equal]\n",
    "    return A\n",
    "B = dutch_flag_partition(4, [0,1,2,1,2,0,1,0,1,2,0])\n",
    "print(B)"
   ]
  },
  {
   "cell_type": "markdown",
   "metadata": {},
   "source": [
    "###### Given an array A of n objects with keys that takes one of four values, reorder the array so that all objects that have the same key appear together. Use O(1) additional space and O(n) time. "
   ]
  },
  {
   "cell_type": "code",
   "execution_count": 38,
   "metadata": {},
   "outputs": [
    {
     "name": "stdout",
     "output_type": "stream",
     "text": [
      "[0, 0, 0, 0, 1, 1, 1, 1, 2, 2, 2, 2, 2, 2, 3, 3, 3, 3]\n"
     ]
    }
   ],
   "source": [
    "def dutch_flag_partition(A):\n",
    "    pivot1 = 0\n",
    "    pivot2 = 1\n",
    "    pivot3 = 2\n",
    "    pivot4 = 3\n",
    "    mid1, mid2, small, large=0, 0, 0, len(A)-1\n",
    "    while A[small] == 0:\n",
    "        small = small + 1\n",
    "        mid1 = small\n",
    "        mid2 = small\n",
    "    while A[mid1] == 1:\n",
    "        mid1 = mid1 + 1\n",
    "        mid2 = mid1\n",
    "    while A[mid2] == 2:\n",
    "        mid2 = mid2 + 1\n",
    "    while A[large] == 3:\n",
    "        large = large - 1\n",
    "    while mid2 <= large:\n",
    "        if A[mid2] == 0:\n",
    "            A[small], A[mid2]= A[mid2], A[small]\n",
    "        elif A[mid2] == 1:\n",
    "            A[mid2], A[mid1]= A[mid1], A[mid2]\n",
    "        elif A[mid2] == 3:\n",
    "            A[mid2], A[large]= A[large], A[mid2]\n",
    "        while A[small] == 0:\n",
    "            small = small + 1\n",
    "            mid1 = small\n",
    "            mid2 = small\n",
    "        while A[mid1] == 1:\n",
    "            mid1 = mid1 + 1\n",
    "            mid2 = mid1\n",
    "        while A[mid2] == 2:\n",
    "            mid2 = mid2 + 1\n",
    "        while A[large] == 3:\n",
    "            large = large - 1\n",
    "    return A\n",
    "B = dutch_flag_partition([0,1,2,1,2,0,1,0,1,2,0,3,3,2,3,2,3,2])\n",
    "print(B)"
   ]
  },
  {
   "cell_type": "markdown",
   "metadata": {},
   "source": [
    "###### Given an array A of n objects with Boolean-valued keys, reorder the array so that objects that have the key false appear first. Use O(1) additional space and O(n) time."
   ]
  },
  {
   "cell_type": "code",
   "execution_count": 7,
   "metadata": {},
   "outputs": [
    {
     "name": "stdout",
     "output_type": "stream",
     "text": [
      "[False, False, False, True, True, True, True]\n"
     ]
    }
   ],
   "source": [
    "def dutch_flag_partition(A):\n",
    "    false=len(A)-1\n",
    "    for i in reversed(range(len(A))):\n",
    "        if A[i]:\n",
    "            A[false], A[i]=A[i], A[false]\n",
    "            false -= 1\n",
    "    return A\n",
    "B = dutch_flag_partition([True,False, True, False, True, True, False])\n",
    "print(B)"
   ]
  },
  {
   "cell_type": "markdown",
   "metadata": {},
   "source": [
    "###### Increment arbitrary precision integer "
   ]
  },
  {
   "cell_type": "markdown",
   "metadata": {},
   "source": [
    "Write a program which takes as input an array of digits encoding a nonnegative decimal integer\n",
    "D and updates the array to represent the integer D + 1. For example, if the input is (1,2,9) then\n",
    "you should update the array to (1,3,0). Your algorithm should work even if it is implemented in a\n",
    "language that has finite-precision arithmetic.   \n",
    "\n",
    "Time Complexity - O(n)"
   ]
  },
  {
   "cell_type": "code",
   "execution_count": 12,
   "metadata": {},
   "outputs": [
    {
     "name": "stdout",
     "output_type": "stream",
     "text": [
      "[1, 2, 5, 0]\n"
     ]
    }
   ],
   "source": [
    "def plus_one(A):\n",
    "    A[-1]+=1\n",
    "    for i in reversed(range(1,len(A))):\n",
    "        if(A[i]!=10):\n",
    "            break\n",
    "        A[i]=0\n",
    "        A[i-1]+=1\n",
    "    if A[0]==10:\n",
    "        A[0]=0\n",
    "        A.append(1)\n",
    "    return A\n",
    "print(plus_one([1,2,4,9]))"
   ]
  },
  {
   "cell_type": "markdown",
   "metadata": {},
   "source": [
    "Write a program which takes as input two strings s and t of bits encodingbinary numbers\n",
    "Bs and Bt, respectively, and refurns a new string of bits representing the number Bs + Bt."
   ]
  },
  {
   "cell_type": "code",
   "execution_count": 11,
   "metadata": {},
   "outputs": [
    {
     "name": "stdout",
     "output_type": "stream",
     "text": [
      "1001\n"
     ]
    }
   ],
   "source": [
    "def add2stringbits(string1,string2):\n",
    "    c=0\n",
    "    summ=''\n",
    "    if len(string1)!=len(string2):\n",
    "        if max(len(string1),len(string2))==len(string2):\n",
    "            string1 ='0'*(len(string2)-len(string1)) +string1\n",
    "        else:\n",
    "            string2 ='0'*(len(string1)-len(string2)) +string2\n",
    "    for s1,s2 in zip(string1,string2):\n",
    "        plus=int(s1)+int(s2)+c\n",
    "        if plus==2:\n",
    "            summ+='0'\n",
    "            c=1\n",
    "        elif plus==1:\n",
    "            summ+='1'\n",
    "        else:\n",
    "            summ+='0'\n",
    "    if c==1:\n",
    "        summ+='1'\n",
    "    return summ\n",
    "print(add2stringbits('11','110'))"
   ]
  },
  {
   "cell_type": "markdown",
   "metadata": {},
   "source": [
    "###### Multiply two arbitrary precision integers "
   ]
  },
  {
   "cell_type": "markdown",
   "metadata": {},
   "source": [
    "Write a program that takes two arrays representing integers, and retums an integer representing\n",
    "their product. For example, since 193707721.x -761838257287 = -147573952589676412927, if\n",
    "the inputs are (1,9,3,7,0,7,7,2, 1) and <-7,6,L,8,3,8,2,5,7,2,8,7>, your function should refum\n",
    "(-1, 4,7, 5,7,3, 9, 5, 2, 5,8,9, 6,7, 6, 4, 1., 2,9,2,7>."
   ]
  },
  {
   "cell_type": "code",
   "execution_count": 14,
   "metadata": {},
   "outputs": [
    {
     "name": "stdout",
     "output_type": "stream",
     "text": [
      "[4, 6]\n"
     ]
    }
   ],
   "source": [
    "def multiply(n1,n2):\n",
    "    res=[0]*(len(n1)+len(n2))\n",
    "    sign=-1 if n1[0]*n2[0]<0 else 1\n",
    "    for i in reversed(range(len(n1))):\n",
    "        for j in reversed(range(len(n2))):\n",
    "            res[i+j+1]+=n1[i]*n2[j]\n",
    "            res[i+j]+=res[i+j+1]//10\n",
    "            res[i+j+1]%=10\n",
    "    res=res[next((i for i,x in enumerate(res) if x!=0),len(res)):] or [0]\n",
    "    return [sign*res[0]]+res[1:]\n",
    "print(multiply([2,3],[2]))"
   ]
  },
  {
   "cell_type": "markdown",
   "metadata": {},
   "source": [
    "There are m partial products, each with at most n + 1 digits. We perform O(1) operations on each\n",
    "digit in each partial product, so the time complexity is O(nm)."
   ]
  },
  {
   "cell_type": "markdown",
   "metadata": {},
   "source": [
    "###### Advancing through an array"
   ]
  },
  {
   "cell_type": "markdown",
   "metadata": {},
   "source": [
    "Write a program which takes an array of n integers, where A[i] denotes the maximum you can\n",
    "advance from index l, and retums whether it is possible to advance to the last index starting from\n",
    "the beginning of the array."
   ]
  },
  {
   "cell_type": "code",
   "execution_count": 15,
   "metadata": {},
   "outputs": [
    {
     "name": "stdout",
     "output_type": "stream",
     "text": [
      "False\n"
     ]
    }
   ],
   "source": [
    "def can_reach_end(A):\n",
    "    furthest,last_index=0,len(A)-1\n",
    "    i=0\n",
    "    while i<=furthest and furthest<last_index:\n",
    "        furthest=max(furthest,i+A[i])\n",
    "        i+=1\n",
    "    return furthest>=last_index\n",
    "print(can_reach_end([0,2,1,3,5]))"
   ]
  },
  {
   "cell_type": "markdown",
   "metadata": {},
   "source": [
    "Write a program to compute the minimum number of steps needed to advance to the last\n",
    "location."
   ]
  },
  {
   "cell_type": "code",
   "execution_count": 16,
   "metadata": {},
   "outputs": [
    {
     "name": "stdout",
     "output_type": "stream",
     "text": [
      "3\n"
     ]
    }
   ],
   "source": [
    "def jump_game(A):\n",
    "    jump, currend,currfurthest=0,0,0\n",
    "    for i in range(len(A)-1):\n",
    "        currfurthest=max(currfurthest, i+A[i])\n",
    "        if(currend==i):\n",
    "            jump+=1\n",
    "            currend=currfurthest\n",
    "    return jump\n",
    "print(jump_game([3,3,1,0,2,0,1]))"
   ]
  },
  {
   "cell_type": "markdown",
   "metadata": {},
   "source": [
    "###### Delete duplicates from a sorted array "
   ]
  },
  {
   "cell_type": "markdown",
   "metadata": {},
   "source": [
    "Write a program which takes as input a sorted array and updates it so that all duplicates have been\n",
    "removed and the remaining elements have been shifted left to fill the emptied indices. Return the\n",
    "number of valid elements."
   ]
  },
  {
   "cell_type": "code",
   "execution_count": 21,
   "metadata": {},
   "outputs": [
    {
     "name": "stdout",
     "output_type": "stream",
     "text": [
      "[1, 2, 3, 4, 5]\n"
     ]
    }
   ],
   "source": [
    "def delete_duplicates(A):\n",
    "    if not A:\n",
    "        return 0\n",
    "    count=1\n",
    "    for i in range(1,len(A)):\n",
    "        if(A[i-1]!=A[i]):\n",
    "            A[count]=A[i]\n",
    "            count+=1\n",
    "    return A[:count]\n",
    "print(delete_duplicates([1,2,3,3,3,4,5]))"
   ]
  },
  {
   "cell_type": "markdown",
   "metadata": {},
   "source": [
    "Implement a function which takes as input an array and a key, and updates the array so\n",
    "that all occurrences of the input key have been removed and the remaining elements have been\n",
    "shifted left to fill the emptied indices. Return the number of remaining elements. There are no\n",
    "requirements as to the values stored beyond the last valid element."
   ]
  },
  {
   "cell_type": "code",
   "execution_count": 23,
   "metadata": {},
   "outputs": [
    {
     "name": "stdout",
     "output_type": "stream",
     "text": [
      "[1, 2, 4, 5]\n"
     ]
    }
   ],
   "source": [
    "def delete_keys(A,k):\n",
    "    if not A:\n",
    "        return 0\n",
    "    count=0\n",
    "    for i in range(len(A)):\n",
    "        if(A[i]!=k):\n",
    "            A[count]=A[i]\n",
    "            count+=1\n",
    "    return A[:count]\n",
    "print(delete_keys([1,2,3,3,3,4,5],3))"
   ]
  },
  {
   "cell_type": "markdown",
   "metadata": {},
   "source": [
    "Write a program which takes as input a sorted array A of integers and a positive integer m,\n",
    "and updates A so that if x appears m times in A it appears exactly min(2,m) times in A. The update\n",
    "to A should be performed in one pass, and no additional storage may be allocated."
   ]
  },
  {
   "cell_type": "markdown",
   "metadata": {},
   "source": [
    "###### Buy and sell a stock once "
   ]
  },
  {
   "cell_type": "markdown",
   "metadata": {},
   "source": [
    "Write a program that takes an array denoting the daily stock price, and retums the maximum profit\n",
    "that could be made by buying and then selling one share of that stock. There is no need to buy if\n",
    "no profit is possible."
   ]
  },
  {
   "cell_type": "code",
   "execution_count": 38,
   "metadata": {},
   "outputs": [
    {
     "name": "stdout",
     "output_type": "stream",
     "text": [
      "30\n"
     ]
    }
   ],
   "source": [
    "def buy_sell_stock_once(prices):\n",
    "    minimum=prices[0]\n",
    "    max_profit=prices[1]-prices[0]\n",
    "    for price in prices:\n",
    "        minimum=min(minimum,price)\n",
    "        max_profit=max(max_profit, price-minimum)\n",
    "    return max_profit\n",
    "print(buy_sell_stock_once([310,315,275,295,260,270,290,230,255,250]))"
   ]
  },
  {
   "cell_type": "markdown",
   "metadata": {},
   "source": [
    "Write a program that takes an array of integers and finds the length of a longest subarray\n",
    "all of whose entries are equal."
   ]
  },
  {
   "cell_type": "code",
   "execution_count": 42,
   "metadata": {},
   "outputs": [
    {
     "name": "stdout",
     "output_type": "stream",
     "text": [
      "6\n"
     ]
    }
   ],
   "source": [
    "def lengthOfLongestSubarrayOfEqualEntries(A):\n",
    "    if not A:\n",
    "        return 0\n",
    "    longestSubarrayCount=1\n",
    "    currentSubarrayCount=1\n",
    "    for i in range(1,len(A)):\n",
    "        if A[i-1]==A[i]:\n",
    "            currentSubarrayCount+=1\n",
    "            if currentSubarrayCount>longestSubarrayCount:\n",
    "                longestSubarrayCount=currentSubarrayCount\n",
    "        else:\n",
    "            currentSubarrayCount=1\n",
    "    return longestSubarrayCount\n",
    "print(lengthOfLongestSubarrayOfEqualEntries([1,2,3,3,3,3,3,3,4,4,4,5,5]))"
   ]
  }
 ],
 "metadata": {
  "kernelspec": {
   "display_name": "Python 3",
   "language": "python",
   "name": "python3"
  },
  "language_info": {
   "codemirror_mode": {
    "name": "ipython",
    "version": 3
   },
   "file_extension": ".py",
   "mimetype": "text/x-python",
   "name": "python",
   "nbconvert_exporter": "python",
   "pygments_lexer": "ipython3",
   "version": "3.7.3"
  }
 },
 "nbformat": 4,
 "nbformat_minor": 2
}
