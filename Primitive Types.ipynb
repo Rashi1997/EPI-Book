{
 "cells": [
  {
   "cell_type": "markdown",
   "metadata": {},
   "source": [
    "# Primitive Types"
   ]
  },
  {
   "cell_type": "markdown",
   "metadata": {},
   "source": [
    "###### Program to count the number of bits that are set to 1 in a positive integer and also total number of bits is stored in num."
   ]
  },
  {
   "cell_type": "markdown",
   "metadata": {},
   "source": [
    "Complexity O(n)"
   ]
  },
  {
   "cell_type": "code",
   "execution_count": 49,
   "metadata": {},
   "outputs": [
    {
     "name": "stdout",
     "output_type": "stream",
     "text": [
      "2\n"
     ]
    }
   ],
   "source": [
    "def count_bits(x):\n",
    "    count=0\n",
    "    num=0\n",
    "    while x:\n",
    "        count += x & 1\n",
    "        num +=1\n",
    "        x >>= 1\n",
    "    return count\n",
    "count=count_bits(12)\n",
    "print(count)"
   ]
  },
  {
   "cell_type": "markdown",
   "metadata": {},
   "source": [
    "###### Computing Parity of a word"
   ]
  },
  {
   "cell_type": "markdown",
   "metadata": {},
   "source": [
    "Brute Force solution O(n)"
   ]
  },
  {
   "cell_type": "code",
   "execution_count": 50,
   "metadata": {},
   "outputs": [
    {
     "name": "stdout",
     "output_type": "stream",
     "text": [
      "1\n"
     ]
    }
   ],
   "source": [
    "def parity(x):\n",
    "    count=0\n",
    "    while x:\n",
    "        count ^= x & 1\n",
    "        x >>= 1\n",
    "    return count\n",
    "print(parity(7))"
   ]
  },
  {
   "cell_type": "markdown",
   "metadata": {},
   "source": [
    "Bit-Fiddling Trick - O(k) where k is the number of bits set to 1 in a particular word"
   ]
  },
  {
   "cell_type": "code",
   "execution_count": 51,
   "metadata": {},
   "outputs": [
    {
     "name": "stdout",
     "output_type": "stream",
     "text": [
      "1\n"
     ]
    }
   ],
   "source": [
    "def parity(x):\n",
    "    count=0\n",
    "    while x:\n",
    "        count ^= 1\n",
    "        x &= x-1\n",
    "    return count\n",
    "print(parity(7))"
   ]
  },
  {
   "cell_type": "markdown",
   "metadata": {},
   "source": [
    "Look-up table - O(n/L) where n is the word size and L is the width of words for which we cache results"
   ]
  },
  {
   "cell_type": "code",
   "execution_count": 52,
   "metadata": {},
   "outputs": [
    {
     "name": "stdout",
     "output_type": "stream",
     "text": [
      "0\n"
     ]
    }
   ],
   "source": [
    "def parity(x):\n",
    "    precomputed = {0: 0,\n",
    "                   1: 1,\n",
    "                   2: 1,\n",
    "                   3: 0}\n",
    "    MASK_SIZE=2\n",
    "    BIT_MASK=3\n",
    "    return (precomputed[x >> (3 * MASK_SIZE)] ^ \n",
    "            precomputed[(x >> (2 * MASK_SIZE)) & BIT_MASK] ^\n",
    "            precomputed[(x >> (1 * MASK_SIZE)) & BIT_MASK] ^ precomputed[x & BIT_MASK])      \n",
    "print(parity(202))"
   ]
  },
  {
   "cell_type": "markdown",
   "metadata": {},
   "source": [
    "XOR - O(log n)"
   ]
  },
  {
   "cell_type": "code",
   "execution_count": 53,
   "metadata": {},
   "outputs": [
    {
     "name": "stdout",
     "output_type": "stream",
     "text": [
      "1\n"
     ]
    }
   ],
   "source": [
    "def parity(x):\n",
    "    x ^= x >> 32\n",
    "    x ^= x >> 16\n",
    "    x ^= x >> 8\n",
    "    x ^= x >> 4\n",
    "    x ^= x >> 2\n",
    "    x ^= x >> 1\n",
    "    return x & 0x1\n",
    "print(parity(7))"
   ]
  },
  {
   "cell_type": "markdown",
   "metadata": {},
   "source": [
    "###### Right propogate rightmost set bit in x turns 01010000 to 01011111"
   ]
  },
  {
   "cell_type": "code",
   "execution_count": 54,
   "metadata": {},
   "outputs": [
    {
     "name": "stdout",
     "output_type": "stream",
     "text": [
      "15\n"
     ]
    }
   ],
   "source": [
    "def rightmost(x):\n",
    "    return x | x-1\n",
    "print(rightmost(8))"
   ]
  },
  {
   "cell_type": "markdown",
   "metadata": {},
   "source": [
    "###### Compute x mod of a power of 2"
   ]
  },
  {
   "cell_type": "code",
   "execution_count": 55,
   "metadata": {},
   "outputs": [
    {
     "name": "stdout",
     "output_type": "stream",
     "text": [
      "13\n"
     ]
    }
   ],
   "source": [
    "def x_mod_power(x,power):\n",
    "    return (x & power-1)\n",
    "print(x_mod_power(77,64))"
   ]
  },
  {
   "cell_type": "markdown",
   "metadata": {},
   "source": [
    "###### Test if x is a power of 2"
   ]
  },
  {
   "cell_type": "code",
   "execution_count": 56,
   "metadata": {},
   "outputs": [
    {
     "name": "stdout",
     "output_type": "stream",
     "text": [
      "False\n"
     ]
    }
   ],
   "source": [
    "def test(x):\n",
    "    return (x & x-1 ==0)\n",
    "print(test(7))"
   ]
  },
  {
   "cell_type": "markdown",
   "metadata": {},
   "source": [
    "###### Swap bits"
   ]
  },
  {
   "cell_type": "markdown",
   "metadata": {},
   "source": [
    "Swap bits - not Brute force - first checking if the bits to be swapped differ - O(1)"
   ]
  },
  {
   "cell_type": "code",
   "execution_count": 57,
   "metadata": {},
   "outputs": [
    {
     "name": "stdout",
     "output_type": "stream",
     "text": [
      "4\n"
     ]
    }
   ],
   "source": [
    "def swap_bits(x,i,j):\n",
    "    if(x>>i & 1 != x>>j & 1):\n",
    "        mask=1<<i | 1<<j\n",
    "        x ^= mask\n",
    "    return x\n",
    "print(swap_bits(8,3,2))"
   ]
  },
  {
   "cell_type": "markdown",
   "metadata": {},
   "source": [
    "###### Reverse Bits"
   ]
  },
  {
   "cell_type": "code",
   "execution_count": 58,
   "metadata": {},
   "outputs": [
    {
     "name": "stdout",
     "output_type": "stream",
     "text": [
      "16\n"
     ]
    }
   ],
   "source": [
    "def reverse_bits(x):\n",
    "    precomputed = {0: 0,\n",
    "                   1: 2,\n",
    "                   2: 1,\n",
    "                   3: 3}\n",
    "    MASK_SIZE=2\n",
    "    BIT_MASK=3\n",
    "    return (precomputed[(x >> (3 * MASK_SIZE)) & BIT_MASK] | \n",
    "            precomputed[(x >> (2 * MASK_SIZE)) & BIT_MASK] << MASK_SIZE |\n",
    "            precomputed[(x >> (1 * MASK_SIZE)) & BIT_MASK] << 2 * MASK_SIZE | precomputed[x & BIT_MASK] << 3 * MASK_SIZE )       \n",
    "print(reverse_bits(8))"
   ]
  },
  {
   "cell_type": "markdown",
   "metadata": {},
   "source": [
    "###### Find a closest integer with the same weight"
   ]
  },
  {
   "cell_type": "markdown",
   "metadata": {},
   "source": [
    "O(n) time complexity"
   ]
  },
  {
   "cell_type": "code",
   "execution_count": 65,
   "metadata": {},
   "outputs": [
    {
     "name": "stdout",
     "output_type": "stream",
     "text": [
      "11\n"
     ]
    }
   ],
   "source": [
    "def closest_int_same_bit_count(x):\n",
    "    NUM_UNSIGNED_BITS=64\n",
    "    for i in range(NUM_UNSIGNED_BITS-1):\n",
    "        if(((x >> i) & 1) != ((x >> (i + 1)) & 1)):\n",
    "            bit_mask=(1 << i) | (1 << (i + 1))\n",
    "            x ^= bit_mask\n",
    "            return x\n",
    "    raise ValueError('All bits are 0 or 1')\n",
    "print(closest_int_same_bit_count(7))"
   ]
  },
  {
   "cell_type": "markdown",
   "metadata": {},
   "source": [
    "O(1) Time Complexity"
   ]
  },
  {
   "cell_type": "markdown",
   "metadata": {},
   "source": [
    "###### Compute x^y"
   ]
  },
  {
   "cell_type": "markdown",
   "metadata": {},
   "source": [
    "O(n) time complexity"
   ]
  },
  {
   "cell_type": "code",
   "execution_count": 66,
   "metadata": {},
   "outputs": [
    {
     "name": "stdout",
     "output_type": "stream",
     "text": [
      "0.125\n"
     ]
    }
   ],
   "source": [
    "def power(x,y):\n",
    "    result, power =1.0, y\n",
    "    if y<0:\n",
    "        power, x=-y, 1.0/x\n",
    "    while power:\n",
    "        if power & 1:\n",
    "            result *= x\n",
    "        x, power= x*x, power >> 1\n",
    "    return result\n",
    "print(power(2,-3))"
   ]
  },
  {
   "cell_type": "markdown",
   "metadata": {},
   "source": [
    "###### Reverse Digits "
   ]
  },
  {
   "cell_type": "markdown",
   "metadata": {},
   "source": [
    "O(n) time complexity"
   ]
  },
  {
   "cell_type": "code",
   "execution_count": 61,
   "metadata": {},
   "outputs": [
    {
     "name": "stdout",
     "output_type": "stream",
     "text": [
      "6543\n"
     ]
    }
   ],
   "source": [
    "def reverse_digits(x):\n",
    "    digits=x\n",
    "    result=0\n",
    "    while digits:\n",
    "        result = result*10 + digits % 10\n",
    "        digits = digits // 10\n",
    "    return result\n",
    "print(reverse_digits(3456))"
   ]
  },
  {
   "cell_type": "markdown",
   "metadata": {},
   "source": [
    "###### Check if a decimal number is pallindrome"
   ]
  },
  {
   "cell_type": "markdown",
   "metadata": {},
   "source": [
    "O(n) time complexity"
   ]
  },
  {
   "cell_type": "code",
   "execution_count": 67,
   "metadata": {},
   "outputs": [
    {
     "name": "stdout",
     "output_type": "stream",
     "text": [
      "False\n"
     ]
    }
   ],
   "source": [
    "import math\n",
    "def is_palindrome_number(x):\n",
    "    if x<=0:\n",
    "        return x==0\n",
    "    num_of_digits=math.floor(math.log10(x)) + 1\n",
    "    msd_mask=10**(num_of_digits - 1)\n",
    "    for i in range(num_of_digits // 2):\n",
    "        if (x%10 != x//msd_mask):\n",
    "            return False\n",
    "        x %= msd_mask\n",
    "        x //= 10\n",
    "        msd_mask //= 100\n",
    "    return True\n",
    "print(is_palindrome_number(15734751))"
   ]
  },
  {
   "cell_type": "markdown",
   "metadata": {},
   "source": [
    "###### Rectangle Intersection"
   ]
  },
  {
   "cell_type": "markdown",
   "metadata": {},
   "source": [
    "O(1) complexity"
   ]
  },
  {
   "cell_type": "code",
   "execution_count": 68,
   "metadata": {},
   "outputs": [
    {
     "name": "stdout",
     "output_type": "stream",
     "text": [
      "Rectangle(x=0, y=0, width=-1, height=-1)\n"
     ]
    }
   ],
   "source": [
    "import collections\n",
    "Rectangle = collections.namedtuple('Rectangle', ('x', 'y', 'width', 'height'))\n",
    "def intersect_rectangle(Rl, R2):\n",
    "    def is_intersect(R1, R2) :\n",
    "        return (Rl.x <= R2.x + R2.width and Rl.x + Rl.width >= R2.x and R1.y <= R2.y + R2.height and R1.y + Rl.height >= R2.y)\n",
    "    if not is_intersect(R1, R2):\n",
    "        return Rectangle(0, 0, -1, -1) # IVo intersection.\n",
    "    return Rectangle(max(R1. x , R2. x) ,\n",
    "    max(R1.y, R2.y),\n",
    "    min(Rl.x + Rl.width, R2.x + R2.width) - nax(Rl.x, R2.x),\n",
    "    min(Rl.y + Rl.height, R2.y + R2.height) - nar(Rl.y, R2.y))\n",
    "R1=Rectangle(1,2,3,4)\n",
    "R2=Rectangle(5,3,2,4)\n",
    "print(intersect_rectangle(R1,R2))"
   ]
  },
  {
   "cell_type": "markdown",
   "metadata": {},
   "source": [
    "###### Given four points in the plane, how would you check if they are the vertices of a rectangle"
   ]
  },
  {
   "cell_type": "code",
   "execution_count": 64,
   "metadata": {},
   "outputs": [
    {
     "name": "stdout",
     "output_type": "stream",
     "text": [
      "True\n"
     ]
    }
   ],
   "source": [
    "def isRectangle(x1, y1, x2, y2, x3, y3, x4, y4):\n",
    "    cx=(x1+x2+x3+x4)/4;\n",
    "    cy=(y1+y2+y3+y4)/4;\n",
    "\n",
    "    dd1=(cx-x1)**2 + (cy-y1)**2;\n",
    "    dd2=(cx-x2)**2 + (cy-y2)**2;\n",
    "    dd3=(cx-x3)**2 + (cy-y3)**2;\n",
    "    dd4=(cx-x4)**2 + (cy-y4)**2;\n",
    "    return dd1==dd2 and dd1==dd3 and dd1==dd4;\n",
    "print(isRectangle(0,-3,-4,0,2,8,6,5))"
   ]
  },
  {
   "cell_type": "markdown",
   "metadata": {},
   "source": [
    "###### How would you check if two rectangles, not necessarily aligned with the X and Y axes, intersect?"
   ]
  }
 ],
 "metadata": {
  "kernelspec": {
   "display_name": "Python 3",
   "language": "python",
   "name": "python3"
  },
  "language_info": {
   "codemirror_mode": {
    "name": "ipython",
    "version": 3
   },
   "file_extension": ".py",
   "mimetype": "text/x-python",
   "name": "python",
   "nbconvert_exporter": "python",
   "pygments_lexer": "ipython3",
   "version": "3.7.3"
  }
 },
 "nbformat": 4,
 "nbformat_minor": 2
}
